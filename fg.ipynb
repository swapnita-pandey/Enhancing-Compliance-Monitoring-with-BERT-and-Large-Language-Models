{
 "cells": [
  {
   "cell_type": "markdown",
   "metadata": {},
   "source": [
    "# Enhancing Compliance Monitoring with BERT and Large Language Models"
   ]
  },
  {
   "cell_type": "code",
   "execution_count": 26,
   "metadata": {},
   "outputs": [
    {
     "name": "stderr",
     "output_type": "stream",
     "text": [
      "Some weights of BertForSequenceClassification were not initialized from the model checkpoint at bert-base-uncased and are newly initialized: ['classifier.bias', 'classifier.weight']\n",
      "You should probably TRAIN this model on a down-stream task to be able to use it for predictions and inference.\n"
     ]
    }
   ],
   "source": [
    "from transformers import BertForSequenceClassification, BertTokenizer\n",
    "\n",
    "# Load the pre-trained BERT model\n",
    "model_name = 'bert-base-uncased'\n",
    "model = BertForSequenceClassification.from_pretrained(model_name)\n",
    "\n",
    "# Load the corresponding tokenizer\n",
    "tokenizer = BertTokenizer.from_pretrained(model_name)"
   ]
  },
  {
   "cell_type": "code",
   "execution_count": 27,
   "metadata": {},
   "outputs": [
    {
     "name": "stderr",
     "output_type": "stream",
     "text": [
      "Some weights of BertForSequenceClassification were not initialized from the model checkpoint at bert-base-uncased and are newly initialized: ['classifier.bias', 'classifier.weight']\n",
      "You should probably TRAIN this model on a down-stream task to be able to use it for predictions and inference.\n"
     ]
    },
    {
     "name": "stdout",
     "output_type": "stream",
     "text": [
      "Log Entry: User 'John' accessed sensitive file 'confidential.txt'.\n",
      "Prediction: 1\n",
      "Insights: Non-compliance detected. Recommend reviewing access controls.\n"
     ]
    }
   ],
   "source": [
    "import torch\n",
    "from transformers import BertForSequenceClassification, BertTokenizer\n",
    "\n",
    "# Load the pre-trained BERT model\n",
    "model_name = 'bert-base-uncased'\n",
    "model = BertForSequenceClassification.from_pretrained(model_name)\n",
    "\n",
    "# Load the corresponding tokenizer\n",
    "tokenizer = BertTokenizer.from_pretrained(model_name)\n",
    "\n",
    "# Example log entry for inference\n",
    "sample_log_entry = \"User 'John' accessed sensitive file 'confidential.txt'.\"\n",
    "\n",
    "# Tokenize the input log entry\n",
    "inputs = tokenizer(sample_log_entry, return_tensors=\"pt\", padding=True, truncation=True)\n",
    "\n",
    "# Perform inference\n",
    "with torch.no_grad():\n",
    "    outputs = model(**inputs)\n",
    "\n",
    "# Assuming binary classification (0 for compliant, 1 for non-compliant)\n",
    "prediction = torch.argmax(outputs.logits).item()\n",
    "\n",
    "# Generate insights based on the prediction\n",
    "if prediction == 0:\n",
    "    insights = \"This log entry is compliant with security policies.\"\n",
    "else:\n",
    "    insights = \"Non-compliance detected. Recommend reviewing access controls.\"\n",
    "\n",
    "print(\"Log Entry:\", sample_log_entry)\n",
    "print(\"Prediction:\", prediction)\n",
    "print(\"Insights:\", insights)\n"
   ]
  },
  {
   "cell_type": "code",
   "execution_count": 28,
   "metadata": {},
   "outputs": [
    {
     "name": "stderr",
     "output_type": "stream",
     "text": [
      "Some weights of BertForSequenceClassification were not initialized from the model checkpoint at bert-base-uncased and are newly initialized: ['classifier.bias', 'classifier.weight']\n",
      "You should probably TRAIN this model on a down-stream task to be able to use it for predictions and inference.\n"
     ]
    },
    {
     "name": "stdout",
     "output_type": "stream",
     "text": [
      "Log Entry: User 'John' accessed sensitive file 'confidential.txt'.\n",
      "Prediction: 0\n",
      "Insights: This log entry is compliant with security policies.\n"
     ]
    }
   ],
   "source": [
    "import transformers\n",
    "\n",
    "# Load a pre-trained LLM (for simplicity, let's assume it's already fine-tuned for compliance)\n",
    "llm_model = transformers.AutoModelForSequenceClassification.from_pretrained(model_name)\n",
    "\n",
    "def analyze_compliance(log_entry):\n",
    "    # Given a log entry, use the LLM to classify compliance\n",
    "    inputs = tokenizer(log_entry, return_tensors=\"pt\", padding=True, truncation=True)\n",
    "    with torch.no_grad():\n",
    "        outputs = llm_model(**inputs)\n",
    "    prediction = torch.argmax(outputs.logits)\n",
    "    return prediction.item()\n",
    "\n",
    "def generate_insights(prediction):\n",
    "    # Based on the prediction, generate actionable insights\n",
    "    if prediction == 0:\n",
    "        return \"This log entry is compliant with security policies.\"\n",
    "    else:\n",
    "        return \"Non-compliance detected. Recommend reviewing access controls.\"\n",
    "\n",
    "if __name__ == \"__main__\":\n",
    "    tokenizer = transformers.AutoTokenizer.from_pretrained(model_name)\n",
    "\n",
    "    sample_log_entry = \"User 'John' accessed sensitive file 'confidential.txt'.\"\n",
    "    \n",
    "    compliance_prediction = analyze_compliance(sample_log_entry)\n",
    "    insights = generate_insights(compliance_prediction)\n",
    "    \n",
    "    print(\"Log Entry:\", sample_log_entry)\n",
    "    print(\"Prediction:\", compliance_prediction)\n",
    "    print(\"Insights:\", insights)\n"
   ]
  }
 ],
 "metadata": {
  "kernelspec": {
   "display_name": "Python 3",
   "language": "python",
   "name": "python3"
  },
  "language_info": {
   "codemirror_mode": {
    "name": "ipython",
    "version": 3
   },
   "file_extension": ".py",
   "mimetype": "text/x-python",
   "name": "python",
   "nbconvert_exporter": "python",
   "pygments_lexer": "ipython3",
   "version": "3.11.4"
  },
  "orig_nbformat": 4
 },
 "nbformat": 4,
 "nbformat_minor": 2
}
